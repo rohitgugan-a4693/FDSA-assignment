{
  "nbformat": 4,
  "nbformat_minor": 0,
  "metadata": {
    "colab": {
      "provenance": [],
      "include_colab_link": true
    },
    "kernelspec": {
      "name": "python3",
      "display_name": "Python 3"
    },
    "language_info": {
      "name": "python"
    }
  },
  "cells": [
    {
      "cell_type": "markdown",
      "metadata": {
        "id": "view-in-github",
        "colab_type": "text"
      },
      "source": [
        "<a href=\"https://colab.research.google.com/github/rohitgugan-a4693/FDSA-assignment/blob/main/Performing_Z_test_and_T_test.ipynb\" target=\"_parent\"><img src=\"https://colab.research.google.com/assets/colab-badge.svg\" alt=\"Open In Colab\"/></a>"
      ]
    },
    {
      "cell_type": "code",
      "execution_count": null,
      "metadata": {
        "colab": {
          "base_uri": "https://localhost:8080/"
        },
        "id": "tn8_FjokD0yd",
        "outputId": "c3d5b634-ee32-4e1a-bedc-2e59c0095ac3"
      },
      "outputs": [
        {
          "output_type": "stream",
          "name": "stdout",
          "text": [
            "mean=110.18 stdv=1.85\n",
            "Reject Null Hypothesis\n"
          ]
        }
      ],
      "source": [
        "# 1. Z-test using formula\n",
        "\n",
        "# imports libraries\n",
        "import math\n",
        "import numpy as np\n",
        "from numpy.random import randn\n",
        "from statsmodels.stats.weightstats import ztest\n",
        "\n",
        "#Z-test Formula values\n",
        "mean_iq = 110\n",
        "sd_iq = 15/math.sqrt(50)\n",
        "alpha =0.05\n",
        "null_mean =100\n",
        "data = sd_iq*randn(50)+mean_iq\n",
        "\n",
        "#Print mean and sd\n",
        "\n",
        "print('mean=%.2f stdv=%.2f' % (np.mean(data), np.std(data)))\n",
        "\n",
        "#Performing Z-test\n",
        "\n",
        "ztest_Score, p_value= ztest(data,value = null_mean, alternative='larger')\n",
        "\n",
        "#Hypothesis\n",
        "\n",
        "if(p_value < alpha):\n",
        "  print(\"Reject Null Hypothesis\")\n",
        "else:\n",
        "  print(\"Accept NUll Hypothesis\")\n"
      ]
    },
    {
      "cell_type": "code",
      "source": [
        "# 2. Ztest using dataset\n",
        "\n",
        "#import libraries\n",
        "import pandas as pd\n",
        "from statsmodels.stats import weightstats as stests\n",
        "\n",
        "#Read CSV file\n",
        "df = pd.read_csv(r\"/content/Iris (2).csv\")\n",
        "\n",
        "#describe the value\n",
        "df[['PetalLengthCm','PetalWidthCm']].describe()\n",
        "\n",
        "#By using the Z-test in Stats\n",
        "ztest ,propability_value = stests.ztest(df['PetalWidthCm'], x2=None, value=146)\n",
        "print(float(propability_value))\n",
        "\n",
        "#Hypothesis\n",
        "if propability_value<0.05:\n",
        "    print(\"Null hyphothes is rejected , Alternative hyphothesis accepted\")\n",
        "else:\n",
        "    print(\"Null hyphothesis accepted , Alternative hyphothesis rejected\")"
      ],
      "metadata": {
        "colab": {
          "base_uri": "https://localhost:8080/"
        },
        "id": "aS9jY25BEFDs",
        "outputId": "aac20b80-7fd0-4b85-f348-070b9884c451"
      },
      "execution_count": null,
      "outputs": [
        {
          "output_type": "stream",
          "name": "stdout",
          "text": [
            "0.0\n",
            "Null hyphothes is rejected , Alternative hyphothesis accepted\n"
          ]
        }
      ]
    },
    {
      "cell_type": "code",
      "source": [
        "#3.Two tail Z-test(using python inbuild function)\n",
        "#Import libraries\n",
        "from statsmodels.stats.weightstats import ztest as ztest\n",
        "\n",
        "#entering a simple value\n",
        "A = [82, 84, 85, 89, 91, 91, 92, 94, 99, 99,\n",
        "         105, 109, 109, 109, 110, 112, 112, 113, 114, 114]\n",
        "\n",
        "B = [90, 91, 91, 91, 95, 95, 99, 99, 108, 109,\n",
        "         109, 114, 115, 116, 117, 117, 128, 129, 130, 133]\n",
        "\n",
        "#perform two sample z-test\n",
        "ztest(A, B, value=0) \n",
        "\n",
        "\n"
      ],
      "metadata": {
        "colab": {
          "base_uri": "https://localhost:8080/"
        },
        "id": "0sePrA3HFsUF",
        "outputId": "5fd5c67b-3b17-41d4-e4bd-9f81c3fd5623"
      },
      "execution_count": null,
      "outputs": [
        {
          "output_type": "execute_result",
          "data": {
            "text/plain": [
              "(-1.9953236073282115, 0.046007596761332065)"
            ]
          },
          "metadata": {},
          "execution_count": 9
        }
      ]
    },
    {
      "cell_type": "code",
      "source": [
        "#5.T-test(one sample)\n",
        "#Import Python librarie\n",
        "import numpy as np\n",
        "from scipy import stats \n",
        "from numpy.random import seed\n",
        "from numpy.random import randn\n",
        "from numpy.random import normal\n",
        "from scipy.stats import ttest_1samp\n"
      ],
      "metadata": {
        "id": "3WxtyVeRHsdF"
      },
      "execution_count": null,
      "outputs": []
    },
    {
      "cell_type": "code",
      "source": [
        "#Create a random sample group\n",
        "seed=(1)\n",
        "sample =normal(150,10,20)\n",
        "print('Sample: ', sample)"
      ],
      "metadata": {
        "colab": {
          "base_uri": "https://localhost:8080/"
        },
        "id": "_s1hnaXyJH_H",
        "outputId": "80692efe-ffd5-4215-8930-4b9d1618102f"
      },
      "execution_count": null,
      "outputs": [
        {
          "output_type": "stream",
          "name": "stdout",
          "text": [
            "Sample:  [148.96656955 149.35545213 142.19048369 163.90830038 144.80001793\n",
            " 151.4206363  150.59877942 151.14656976 165.46635624 161.80881593\n",
            " 146.27697664 146.77208732 143.04148339 154.44716753 140.24228598\n",
            " 154.10643594 155.55099509 165.49628487 148.46799222 128.0355123 ]\n"
          ]
        }
      ]
    },
    {
      "cell_type": "code",
      "source": [
        "#Conduct the test\n",
        "t_stat, p_value = ttest_1samp(sample, popmean=155)\n",
        "print(\"T-statistic value: \", t_stat)  \n",
        "print(\"P-Value: \", p_value)\n"
      ],
      "metadata": {
        "colab": {
          "base_uri": "https://localhost:8080/"
        },
        "id": "sH75OI6NJd68",
        "outputId": "37232028-67c7-4354-9bb1-4fd1488dbca3"
      },
      "execution_count": null,
      "outputs": [
        {
          "output_type": "stream",
          "name": "stdout",
          "text": [
            "T-statistic value:  -2.1297529256878374\n",
            "P-Value:  0.04648491837969075\n"
          ]
        }
      ]
    },
    {
      "cell_type": "code",
      "source": [
        "#Result\n",
        "if p_value <= t_stat:\n",
        "  print(\"Reject the null hypothesis\")\n",
        "else:\n",
        "  print(\"Accept the null hypothesis\")\n"
      ],
      "metadata": {
        "colab": {
          "base_uri": "https://localhost:8080/"
        },
        "id": "jMWF7yfKWFAL",
        "outputId": "82d60d86-f460-49ff-8a50-5d85f012d218"
      },
      "execution_count": null,
      "outputs": [
        {
          "output_type": "stream",
          "name": "stdout",
          "text": [
            "Fail to reject the null hypothesis\n"
          ]
        }
      ]
    },
    {
      "cell_type": "code",
      "source": [
        "#6.T-test(two-tailed test)\n",
        "#Import libraries\n",
        "from numpy.random import seed\n",
        "from numpy.random import randn\n",
        "from numpy.random import normal\n",
        "from scipy.stats import ttest_ind\n"
      ],
      "metadata": {
        "id": "I83rCX1TJkV1"
      },
      "execution_count": null,
      "outputs": []
    },
    {
      "cell_type": "code",
      "source": [
        "# seed the random number generator\n",
        "seed(1)\n",
        "# create two independent sample groups\n",
        "sample1= normal(30, 16, 50)\n",
        "sample2=normal(33, 18, 50)\n",
        "print('Sample 1: ',sample1)\n",
        "print('Sample 2: ',sample2)"
      ],
      "metadata": {
        "colab": {
          "base_uri": "https://localhost:8080/"
        },
        "id": "kxOf9P7vU5TG",
        "outputId": "395b0e59-c3b7-4c16-f02a-19c08ad6962d"
      },
      "execution_count": null,
      "outputs": [
        {
          "output_type": "stream",
          "name": "stdout",
          "text": [
            "Sample 1:  [55.98952582 20.21189738 21.54925196 12.83250205 43.84652207 -6.82461915\n",
            " 57.91698823 17.82068959 35.10462554 26.01007399 53.39372699 -2.96225135\n",
            " 24.84132474 23.85513033 48.14031108 12.40173972 27.24114868 15.95426531\n",
            " 30.67541995 39.32504342 12.39009316 48.31557936 44.42545153 38.03990942\n",
            " 44.41369519 19.06035425 28.03375639 15.02768905 25.71379073 38.48568747\n",
            " 18.93342797 23.65194357 19.0052368  16.47670974 19.26006191 29.79736642\n",
            " 12.12303442 33.75065117 56.55683483 41.87270657 26.93063116 15.79793657\n",
            " 18.0454673  57.07927362 30.81292408 19.80806965 33.05464775 63.60408218\n",
            " 31.92254324 39.87524976]\n",
            "Sample 2:  [38.40306576 26.65950276 12.43467244 26.711831   29.2399038  43.55921744\n",
            " 48.10170145 49.75983746 38.14057185 48.93254096 19.42083706 55.55162679\n",
            " 42.23273677 27.63432897 41.79332664 31.63970917 53.36932897 60.3567027\n",
            " 72.34035732  7.86306596  7.0059515  23.91961447 35.88066725 48.77104058\n",
            " 38.68142905 -3.39962188 27.48832777 47.90354357 37.14170524 46.71620125\n",
            " 28.99809343 29.38635476 36.35810504 40.38092965 36.56939496 35.14215562\n",
            " 20.92807885 39.79614815 35.19278288 53.33071034 54.58052184 36.33281551\n",
            " 26.2448709  21.50285267 40.62289837 34.39212123 26.81063384 33.78474342\n",
            " 21.83998481 45.56457661]\n"
          ]
        }
      ]
    },
    {
      "cell_type": "code",
      "source": [
        "#Conduct the test\n",
        "t_stat, p_value = ttest_ind(sample1, sample2)\n",
        "print(\"T-statistic value: \", t_stat)  \n",
        "print(\"P-Value: \", p_value)"
      ],
      "metadata": {
        "colab": {
          "base_uri": "https://localhost:8080/"
        },
        "id": "BekxeJQGU-dr",
        "outputId": "06d4126c-9178-48b3-e2a5-3075717d608d"
      },
      "execution_count": null,
      "outputs": [
        {
          "output_type": "stream",
          "name": "stdout",
          "text": [
            "T-statistic value:  -2.020799500150909\n",
            "P-Value:  0.046028526548752335\n"
          ]
        }
      ]
    },
    {
      "cell_type": "code",
      "source": [
        "#Result\n",
        "if p_value <= t_stat:\n",
        "  print(\"Reject the null hypothesis\")\n",
        "else:\n",
        "  print(\"Accept the null hypothesis\")\n"
      ],
      "metadata": {
        "colab": {
          "base_uri": "https://localhost:8080/"
        },
        "id": "HqnC-A6sVDkM",
        "outputId": "4e163b11-2123-42b6-84af-f99d48757265"
      },
      "execution_count": null,
      "outputs": [
        {
          "output_type": "stream",
          "name": "stdout",
          "text": [
            "Fail to reject the null hypothesis\n"
          ]
        }
      ]
    },
    {
      "cell_type": "code",
      "source": [],
      "metadata": {
        "id": "RheIEwy2V8wO"
      },
      "execution_count": null,
      "outputs": []
    }
  ]
}